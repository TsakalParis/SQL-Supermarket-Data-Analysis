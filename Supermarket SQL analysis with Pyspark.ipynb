{
 "cells": [
  {
   "cell_type": "code",
   "execution_count": 1,
   "id": "1bd86b16",
   "metadata": {},
   "outputs": [],
   "source": [
    "import pandas as pd"
   ]
  },
  {
   "cell_type": "markdown",
   "id": "d1575415",
   "metadata": {},
   "source": [
    "### Read file using pandas without specifying file type, and save it as a different file type"
   ]
  },
  {
   "cell_type": "code",
   "execution_count": 7,
   "id": "a8e9ad1e",
   "metadata": {},
   "outputs": [],
   "source": [
    "def read_file(fname, read_path):\n",
    "    file_types = [\"pickle\", \"csv\", \"excel\", \"json\", \"html\", \"xml\", \"feather\", \"parquet\", \n",
    "                  \"orc\", \"sql\", \"stata\"]\n",
    "    list_of_func = [pd.read_pickle, pd.read_csv, pd.read_excel, pd.read_json, pd.read_html, \n",
    "                    pd.read_xml, pd.read_feather, pd.read_parquet, pd.read_orc, pd.read_sql, \n",
    "                    pd.read_stata]\n",
    "    i = 0\n",
    "    for file in file_types:\n",
    "        if fname.endswith(file):\n",
    "            return list_of_func[i](read_path+fname), file\n",
    "        i+=1 \n",
    "\n",
    "def save_file(name, file_type, save_path, new_name):\n",
    "    file_dict = {\"pickle\": name.to_pickle, \"csv\": name.to_csv, \"excel\": name.to_excel, \n",
    "                 \"json\": name.to_json, \"html\": name.to_html, \"xml\": name.to_xml, \n",
    "                 \"feather\": name.to_feather, \"parquet\": name.to_parquet, \"orc\": name.to_orc, \n",
    "                 \"sql\": name.to_sql, \"stata\": name.to_stata}\n",
    "    return file_dict.get(file_type)(save_path+new_name)"
   ]
  },
  {
   "cell_type": "markdown",
   "id": "6c7ad252",
   "metadata": {},
   "source": [
    "### Example: Change all desired files to parquet"
   ]
  },
  {
   "cell_type": "code",
   "execution_count": 8,
   "id": "4059a8a6",
   "metadata": {
    "scrolled": false
   },
   "outputs": [],
   "source": [
    "fnames = [\"aisles.csv\", \"departments.csv\", \"order_products.csv\", \n",
    "          \"orders_small_version.csv\", \"products.csv\"]\n",
    "\n",
    "read_path = \"C://Users//User//Desktop//Git_Starter_Projects//Supermarket-Data-Analysis-using-SQL//\"\n",
    "\n",
    "for fname in fnames:\n",
    "    name, file = read_file(fname, read_path)\n",
    "    save_file(name, \"parquet\", read_path, \"p_\"+fname.replace(file, \"\"))"
   ]
  }
 ],
 "metadata": {
  "kernelspec": {
   "display_name": "Python 3 (ipykernel)",
   "language": "python",
   "name": "python3"
  },
  "language_info": {
   "codemirror_mode": {
    "name": "ipython",
    "version": 3
   },
   "file_extension": ".py",
   "mimetype": "text/x-python",
   "name": "python",
   "nbconvert_exporter": "python",
   "pygments_lexer": "ipython3",
   "version": "3.9.13"
  }
 },
 "nbformat": 4,
 "nbformat_minor": 5
}
